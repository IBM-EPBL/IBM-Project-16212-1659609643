{
 "cells": [
  {
   "cell_type": "code",
   "execution_count": null,
   "metadata": {},
   "outputs": [],
   "source": [
    "import math\n",
    "a = int(input(\"Enter the UPPER limit value : \"))\n",
    "if a == 0 or a == 1:\n",
    "    print(a , \" is neither PRIME nor COMPOSITE\")\n",
    "else:\n",
    "    print(\"List of PRIME numbers : \")\n",
    "for i in range(2,a+1):\n",
    "    if i > 2:\n",
    "        flag = 1\n",
    "        for j in range(2, math.ceil(math.sqrt(i))+1):\n",
    "            if (i % j) == 0:\n",
    "                flag = 0\n",
    "                break\n",
    "        if flag == 1:\n",
    "            print(i, end = \" \");\n",
    "    elif i > 1:\n",
    "        print(i, end = \" \")"
   ]
  }
 ],
 "metadata": {
  "language_info": {
   "name": "python"
  },
  "orig_nbformat": 4
 },
 "nbformat": 4,
 "nbformat_minor": 2
}
